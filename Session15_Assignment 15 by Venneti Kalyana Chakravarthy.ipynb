{
 "cells": [
  {
   "cell_type": "code",
   "execution_count": 4,
   "metadata": {},
   "outputs": [
    {
     "name": "stdout",
     "output_type": "stream",
     "text": [
      "The standard deviation of the surveyed households is:\n",
      " 367.9900360969936\n"
     ]
    }
   ],
   "source": [
    "# Question 1: You survey households in your area to find the average rent they are paying. \n",
    "# Find the standard deviation from the following data:  1550, 1700,  900, 850,  1000, 950.\n",
    "\n",
    "import statistics\n",
    "Rent_list = [1550,1700,900,850,1000,950]\n",
    "\n",
    "q= statistics.stdev(Rent_list)\n",
    "\n",
    "print('The standard deviation of the surveyed households is:\\n',q)"
   ]
  },
  {
   "cell_type": "code",
   "execution_count": 5,
   "metadata": {},
   "outputs": [
    {
     "name": "stdout",
     "output_type": "stream",
     "text": [
      "The variance for the above set is as below:\n",
      " 6219.9\n"
     ]
    }
   ],
   "source": [
    "# Question 2:  Find the variance for the following set of data representing trees in California \n",
    "# (heights in feet): 3, 21, 98, 203, 17, 9\n",
    "\n",
    "Theight_list =[3,21,98,203,17,9]\n",
    "a= statistics.variance(Theight_list)\n",
    "print('The variance for the above set is as below:\\n',a)"
   ]
  },
  {
   "cell_type": "code",
   "execution_count": 9,
   "metadata": {},
   "outputs": [
    {
     "data": {
      "text/html": [
       "<div>\n",
       "<style scoped>\n",
       "    .dataframe tbody tr th:only-of-type {\n",
       "        vertical-align: middle;\n",
       "    }\n",
       "\n",
       "    .dataframe tbody tr th {\n",
       "        vertical-align: top;\n",
       "    }\n",
       "\n",
       "    .dataframe thead th {\n",
       "        text-align: right;\n",
       "    }\n",
       "</style>\n",
       "<table border=\"1\" class=\"dataframe\">\n",
       "  <thead>\n",
       "    <tr style=\"text-align: right;\">\n",
       "      <th></th>\n",
       "      <th>0</th>\n",
       "    </tr>\n",
       "  </thead>\n",
       "  <tbody>\n",
       "    <tr>\n",
       "      <th>count</th>\n",
       "      <td>4.000000</td>\n",
       "    </tr>\n",
       "    <tr>\n",
       "      <th>mean</th>\n",
       "      <td>0.250000</td>\n",
       "    </tr>\n",
       "    <tr>\n",
       "      <th>std</th>\n",
       "      <td>0.367786</td>\n",
       "    </tr>\n",
       "    <tr>\n",
       "      <th>min</th>\n",
       "      <td>0.030000</td>\n",
       "    </tr>\n",
       "    <tr>\n",
       "      <th>25%</th>\n",
       "      <td>0.060000</td>\n",
       "    </tr>\n",
       "    <tr>\n",
       "      <th>50%</th>\n",
       "      <td>0.085000</td>\n",
       "    </tr>\n",
       "    <tr>\n",
       "      <th>75%</th>\n",
       "      <td>0.275000</td>\n",
       "    </tr>\n",
       "    <tr>\n",
       "      <th>max</th>\n",
       "      <td>0.800000</td>\n",
       "    </tr>\n",
       "  </tbody>\n",
       "</table>\n",
       "</div>"
      ],
      "text/plain": [
       "              0\n",
       "count  4.000000\n",
       "mean   0.250000\n",
       "std    0.367786\n",
       "min    0.030000\n",
       "25%    0.060000\n",
       "50%    0.085000\n",
       "75%    0.275000\n",
       "max    0.800000"
      ]
     },
     "metadata": {},
     "output_type": "display_data"
    }
   ],
   "source": [
    "# Question 3: In a class on 100 students, 80 students passed in all subjects, 10 failed in one subject, 7 failed in two subjects \n",
    "# and 3 failed in three subjects. Find the probability distribution of the variable for number of subjects a student from \n",
    "# the given class has failed in.\n",
    "\n",
    "import numpy as np\n",
    "import pandas as pd\n",
    "import scipy.stats as stats\n",
    "\n",
    "# probability of students passed in all, failed in 1, 2, 3 subjects is presented in the list\n",
    "list=[0.1,0.03,0.07,0.8] \n",
    "df = pd.DataFrame(list)\n",
    "display(df.describe())"
   ]
  },
  {
   "cell_type": "code",
   "execution_count": 10,
   "metadata": {},
   "outputs": [
    {
     "data": {
      "text/plain": [
       "0.00354570816069708"
      ]
     },
     "execution_count": 10,
     "metadata": {},
     "output_type": "execute_result"
    }
   ],
   "source": [
    "# for accurate values of mean and Standard deviation multiply by 100\n",
    "\n",
    "mean = 25.00\n",
    "std = 36.77\n",
    "\n",
    "# probability distribution function is calculated as\n",
    "\n",
    "stats.norm(25.00,36.7786).pdf(80)"
   ]
  }
 ],
 "metadata": {
  "kernelspec": {
   "display_name": "Python 3",
   "language": "python",
   "name": "python3"
  },
  "language_info": {
   "codemirror_mode": {
    "name": "ipython",
    "version": 3
   },
   "file_extension": ".py",
   "mimetype": "text/x-python",
   "name": "python",
   "nbconvert_exporter": "python",
   "pygments_lexer": "ipython3",
   "version": "3.6.6"
  }
 },
 "nbformat": 4,
 "nbformat_minor": 2
}
